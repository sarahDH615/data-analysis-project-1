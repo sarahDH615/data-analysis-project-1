{
 "cells": [
  {
   "cell_type": "code",
   "execution_count": null,
   "metadata": {},
   "outputs": [],
   "source": [
    "#dependencies\n",
    "import pandas as pd\n",
    "import numpy as np"
   ]
  },
  {
   "cell_type": "code",
   "execution_count": null,
   "metadata": {},
   "outputs": [],
   "source": [
    "#csv path \n",
    "all_states_history_path = \"data/all-states-history.csv\"\n",
    "all_covid_data_df = pd.read_csv(all_states_history_path)\n",
    "all_covid_data_df.head()\n"
   ]
  },
  {
   "cell_type": "code",
   "execution_count": null,
   "metadata": {},
   "outputs": [],
   "source": [
    "#creating a dictionary for making a shorter covid df with only relevant cols\n",
    "covid_cols_dict = {\n",
    "    'date': [x for x in all_covid_data_df['date']],\n",
    "    'state': [x for x in all_covid_data_df['state']],\n",
    "    'positive_cases': [x for x in all_covid_data_df['positive']],\n",
    "    'total_tests': [x for x in all_covid_data_df['totalTestResults']]\n",
    "}"
   ]
  },
  {
   "cell_type": "code",
   "execution_count": null,
   "metadata": {},
   "outputs": [],
   "source": [
    "#creating another df \n",
    "covid_cols_df = pd.DataFrame(covid_cols_dict)\n",
    "covid_cols_df"
   ]
  },
  {
   "cell_type": "code",
   "execution_count": null,
   "metadata": {},
   "outputs": [],
   "source": [
    "#new column, percentage of positive cases\n",
    "covid_cols_df['percentage_positive'] = (covid_cols_df['positive_cases']/covid_cols_df['total_tests']) * 100\n",
    "covid_cols_df.head()"
   ]
  },
  {
   "cell_type": "code",
   "execution_count": null,
   "metadata": {},
   "outputs": [],
   "source": [
    "#resetting index as the dates\n",
    "covid_cols_df = covid_cols_df.set_index('date')\n"
   ]
  },
  {
   "cell_type": "code",
   "execution_count": null,
   "metadata": {},
   "outputs": [],
   "source": [
    "covid_cols_df.head()"
   ]
  },
  {
   "cell_type": "code",
   "execution_count": null,
   "metadata": {},
   "outputs": [],
   "source": [
    "#reading in the state abbreviations\n",
    "path = '../perry/statesAbbrev.csv'\n",
    "statesAbbrev_df = pd.read_csv(path)\n",
    "statesAbbrev_df.sample(12)"
   ]
  },
  {
   "cell_type": "code",
   "execution_count": null,
   "metadata": {},
   "outputs": [],
   "source": [
    "#list for state codes\n",
    "state_codes = [x for x in statesAbbrev_df['Code']]"
   ]
  },
  {
   "cell_type": "code",
   "execution_count": null,
   "metadata": {},
   "outputs": [],
   "source": [
    "#list for state names\n",
    "state_names = [x for x in statesAbbrev_df['State']]"
   ]
  },
  {
   "cell_type": "code",
   "execution_count": null,
   "metadata": {},
   "outputs": [],
   "source": [
    "#finding the codes for each of the states concerned here\n",
    "state_codes[11], state_codes[12], state_codes[13], state_codes[14], state_codes[15], state_codes[16], state_codes[17], state_codes[18], state_codes[19], state_codes[20]"
   ]
  },
  {
   "cell_type": "code",
   "execution_count": null,
   "metadata": {},
   "outputs": [],
   "source": [
    "#reading in the stay at home order df\n",
    "path = '../perry/full_SAH_orders.csv'\n",
    "sah_data_df = pd.read_csv(path)\n",
    "sah_data_df.head()"
   ]
  },
  {
   "cell_type": "code",
   "execution_count": null,
   "metadata": {},
   "outputs": [],
   "source": [
    "#creating a df dict to hold the state dfs, reading in the dfs\n",
    "states_df_dict = {}\n",
    "for x in range(11, 21):\n",
    "    path = f'../sarah/google_trends/google_trends_csvs/state_csvs/US-{state_codes[x]}_cat_data.csv'\n",
    "    states_df_dict[f'{state_codes[x]}_data_df'] = pd.read_csv(path)\n"
   ]
  },
  {
   "cell_type": "code",
   "execution_count": null,
   "metadata": {},
   "outputs": [],
   "source": [
    "#testing to see how many states lie in the df dict\n",
    "len(states_df_dict)"
   ]
  },
  {
   "cell_type": "code",
   "execution_count": null,
   "metadata": {},
   "outputs": [],
   "source": [
    "#inspecting the keys (ie df names)\n",
    "states_df_dict.keys()\n",
    "states_df_dict.keys()"
   ]
  },
  {
   "cell_type": "code",
   "execution_count": null,
   "metadata": {},
   "outputs": [],
   "source": [
    "#test printing a df\n",
    "print(state_codes[11])\n",
    "states_df_dict[f'{state_codes[11]}_data_df'].head(10)"
   ]
  },
  {
   "cell_type": "code",
   "execution_count": null,
   "metadata": {},
   "outputs": [],
   "source": [
    "dates_list = [x for x in states_df_dict[f'{state_codes[11]}_data_df']['time']]\n",
    "dates_list"
   ]
  },
  {
   "cell_type": "code",
   "execution_count": null,
   "metadata": {},
   "outputs": [],
   "source": [
    "#testing the char indices for only the year-month\n",
    "dates_list[0][0:7]"
   ]
  },
  {
   "cell_type": "code",
   "execution_count": null,
   "metadata": {},
   "outputs": [],
   "source": [
    "#creating a list of unique year-month combos\n",
    "all_month_year = [x[0:7] for x in dates_list]\n",
    "month_year = set(all_month_year)\n",
    "month_year = list(month_year)"
   ]
  },
  {
   "cell_type": "code",
   "execution_count": null,
   "metadata": {},
   "outputs": [],
   "source": [
    "#function for appending dates per month, and their indices, to a month_date_dict\n",
    "months_dates_dict = {}\n",
    "def date_dict_append(m):\n",
    "    month_date_list = []\n",
    "    for x in range(0, len(dates_list)):\n",
    "        if dates_list[x][0:7] == month_year[m]:\n",
    "            month_date_list.append((dates_list[x], x))\n",
    "    #months_dates_dict = {}\n",
    "    months_dates_dict[f'{month_year[m]}'] = month_date_list"
   ]
  },
  {
   "cell_type": "code",
   "execution_count": null,
   "metadata": {},
   "outputs": [],
   "source": [
    "#calling the function for each month in the month-year dict\n",
    "for m in range(0, len(month_year)):\n",
    "    date_dict_append(m)"
   ]
  },
  {
   "cell_type": "code",
   "execution_count": null,
   "metadata": {},
   "outputs": [],
   "source": [
    "#printing the dict\n",
    "print(months_dates_dict)"
   ]
  },
  {
   "cell_type": "code",
   "execution_count": null,
   "metadata": {},
   "outputs": [],
   "source": [
    "#defining function for appending the covid data to each state df\n",
    "def covid_data_append(state_index):\n",
    "    global state_date_list\n",
    "    state_date_list = []\n",
    "    for date in dates_list:\n",
    "        try:\n",
    "            state_date_list.append(covid_cols_df[covid_cols_df['state'] == state_codes[state_index]].loc[date, 'positive_cases'])\n",
    "        except KeyError:\n",
    "            print(date)\n",
    "            state_date_list.append('n/a')\n",
    "            continue  \n",
    "    states_df_dict[f'{state_codes[state_index]}_data_df']['covid_cases'] = state_date_list\n",
    "    print(states_df_dict[f'{state_codes[state_index]}_data_df'].tail(20))"
   ]
  },
  {
   "cell_type": "code",
   "execution_count": null,
   "metadata": {},
   "outputs": [],
   "source": [
    "#calling funct for states dfs index 40-50\n",
    "for x in range(11, 20):\n",
    "    covid_data_append(x)"
   ]
  },
  {
   "cell_type": "code",
   "execution_count": null,
   "metadata": {},
   "outputs": [],
   "source": [
    "#defining a funct for appending whether stay at home orders or gathering bans are happening\n",
    "def value_changer(index_no):\n",
    "    print(sah_data_df[sah_data_df['state_name'] == state_names[index_no]]) \n",
    "    query = input('is there a stay at home order? Yes/No')\n",
    "    if query == 'Yes':\n",
    "        start_month = input('start month')\n",
    "        end_month = input('end month')\n",
    "        print(months_dates_dict[f'2020-{start_month}'])\n",
    "        print(months_dates_dict[f'2020-{end_month}'])\n",
    "        val1 = int(input('start index'))\n",
    "        val2 = int(input('end index(first index after the end of the ban)'))\n",
    "        response = input('gathering ban? Yes/No')\n",
    "        if response == 'Yes':\n",
    "            for x in range(val1, val2):\n",
    "                states_df_dict[f'{state_codes[index_no]}_data_df'].iat[x, -2] = 'True'\n",
    "                states_df_dict[f'{state_codes[index_no]}_data_df'].iat[x, -1] = 'True'\n",
    "        elif response == 'No':\n",
    "            for x in range(val1, val2):\n",
    "                states_df_dict[f'{state_codes[index_no]}_data_df'].iat[x, -2] = 'True'\n",
    "        print(states_df_dict[f'{state_codes[index_no]}_data_df'].iloc[(val1-2):(val2+2), :])\n",
    "    elif query == 'No':\n",
    "        print(f'{state_codes[index_no]}_data_df has no bans')\n",
    "        print(states_df_dict[f'{state_codes[index_no]}_data_df'].tail(10))\n",
    "    else:\n",
    "        ask = input('Did you make a mistake?Yes/No')\n",
    "        if ask == 'Yes':\n",
    "            value_changer(index_no)\n",
    "        else:\n",
    "            print(f'{state_codes[index_no]}_data_df has no bans')\n",
    "            print(states_df_dict[f'{state_codes[index_no]}_data_df'].tail(10))"
   ]
  },
  {
   "cell_type": "code",
   "execution_count": null,
   "metadata": {},
   "outputs": [],
   "source": [
    "#calling the funct for all of the states ind 11-20\n",
    "for x in range(11, 20):\n",
    "    value_changer(x)"
   ]
  },
  {
   "cell_type": "code",
   "execution_count": null,
   "metadata": {},
   "outputs": [],
   "source": [
    "#outputting the dfs back out\n",
    "for x in range(11,20):\n",
    "    output_path = f'../sarah/google_trends/google_trends_csvs/state_csvs/US-{state_codes[x]}_cat_data.csv'\n",
    "    states_df_dict[f'{state_codes[x]}_data_df'].to_csv(output_path, index=False)"
   ]
  },
  {
   "cell_type": "code",
   "execution_count": null,
   "metadata": {},
   "outputs": [],
   "source": [
    "#test re-reading back in\n",
    "path = f'../google_trends/google_trends_csvs/state_csvs/US-WV_cat_data.csv'\n",
    "test_WV_df = pd.read_csv(path)\n",
    "test_WV_df.tail(20)"
   ]
  },
  {
   "cell_type": "code",
   "execution_count": null,
   "metadata": {},
   "outputs": [],
   "source": [
    "#outputting the dfs back out\n",
    "for x in range(11,20):\n",
    "\n",
    "    output_path = f'../keiko/states_data/US-{state_codes[x]}_cat_data.csv'\n",
    "    states_df_dict[f'{state_codes[x]}_data_df'].to_csv(output_path, index=False)"
   ]
  },
  {
   "cell_type": "code",
   "execution_count": null,
   "metadata": {},
   "outputs": [],
   "source": []
  }
 ],
 "metadata": {
  "kernelspec": {
   "display_name": "Python 3",
   "language": "python",
   "name": "python3"
  },
  "language_info": {
   "codemirror_mode": {
    "name": "ipython",
    "version": 3
   },
   "file_extension": ".py",
   "mimetype": "text/x-python",
   "name": "python",
   "nbconvert_exporter": "python",
   "pygments_lexer": "ipython3",
   "version": "3.8.3"
  }
 },
 "nbformat": 4,
 "nbformat_minor": 4
}
